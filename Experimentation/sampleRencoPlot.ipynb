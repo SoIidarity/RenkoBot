{
 "cells": [
  {
   "cell_type": "markdown",
   "metadata": {},
   "source": [
    "#### Importing necessary libraries"
   ]
  },
  {
   "cell_type": "code",
   "execution_count": 1,
   "metadata": {
    "scrolled": true
   },
   "outputs": [],
   "source": [
    "import pandas as pd\n",
    "pd.options.mode.chained_assignment = None # This avoids SettingWithCopyWarnings\n",
    "import numpy as np\n",
    "\n"
   ]
  },
  {
   "cell_type": "code",
   "execution_count": 2,
   "metadata": {
    "scrolled": true
   },
   "outputs": [],
   "source": [
    "from pandas_datareader import data as pdr\n",
    "import fix_yahoo_finance as yf\n",
    "yf.pdr_override()"
   ]
  },
  {
   "cell_type": "markdown",
   "metadata": {},
   "source": [
    "### Initializing Variables\n"
   ]
  },
  {
   "cell_type": "code",
   "execution_count": 3,
   "metadata": {},
   "outputs": [],
   "source": [
    "data={} # Dictionary to contain pandas dataframe for all the stocks. This is to avoid creating variable for each stock \n",
    "        # to store data\n",
    "finalData={} # This should contain our final output and that is Renko OHLC data\n",
    "n=7 # Period for ATR\n",
    "renkoData={} # It contains information on the lastest bar of renko data for the number of stocks we are working on"
   ]
  },
  {
   "cell_type": "markdown",
   "metadata": {},
   "source": [
    "### Average True Range is generally used as Renko bar size. However we can also use a custom bar size"
   ]
  },
  {
   "cell_type": "code",
   "execution_count": 4,
   "metadata": {},
   "outputs": [],
   "source": [
    "def ATR(df,n): #df is the DataFrame, n is the period 7,14 ,etc\n",
    "    df['H-L']=abs(df['High']-df['Low'])\n",
    "    df['H-PC']=abs(df['High']-df['Close'].shift(1))\n",
    "    df['L-PC']=abs(df['Low']-df['Close'].shift(1))\n",
    "    df['TR']=df[['H-L','H-PC','L-PC']].max(axis=1)\n",
    "    df['ATR']=np.nan\n",
    "    df.ix[n-1,'ATR']=df['TR'][:n-1].mean() #.ix is deprecated from pandas version- 0.19\n",
    "    for i in range(n,len(df)):\n",
    "        df['ATR'][i]=(df['ATR'][i-1]*(n-1)+ df['TR'][i])/n\n",
    "    return "
   ]
  },
  {
   "cell_type": "markdown",
   "metadata": {},
   "source": [
    "### Set of Stocks"
   ]
  },
  {
   "cell_type": "code",
   "execution_count": 5,
   "metadata": {},
   "outputs": [],
   "source": [
    "StockList=['INFY', 'ICICIBANK'] "
   ]
  },
  {
   "cell_type": "markdown",
   "metadata": {},
   "source": [
    "### Fetching data using Yahoo API,  Setting up Pandas Dataframe in the dictionary 'data' with key as Stock name and Value as DataFrame\n"
   ]
  },
  {
   "cell_type": "code",
   "execution_count": 6,
   "metadata": {},
   "outputs": [
    {
     "name": "stdout",
     "output_type": "stream",
     "text": [
      "[*********************100%***********************]  1 of 1 downloaded\n",
      "[*********************100%***********************]  1 of 1 downloaded\n"
     ]
    }
   ],
   "source": [
    "start='2016-1-1'\n",
    "for stock in StockList:\n",
    "    data[stock]=pdr.get_data_yahoo(stock+'.NS', start)"
   ]
  },
  {
   "cell_type": "markdown",
   "metadata": {},
   "source": [
    "#### Sometimes due to rate limiting factor, Yahoo api when called yeilds no data. Below cell helps us out in figuring whether we need to ping the api again. "
   ]
  },
  {
   "cell_type": "code",
   "execution_count": 7,
   "metadata": {},
   "outputs": [],
   "source": [
    "for stock in data:\n",
    "    if data[stock].empty:\n",
    "        print (stock)"
   ]
  },
  {
   "cell_type": "code",
   "execution_count": 8,
   "metadata": {
    "scrolled": true
   },
   "outputs": [
    {
     "name": "stdout",
     "output_type": "stream",
     "text": [
      "{'INFY':                   Open        High         Low       Close   Adj Close  \\\n",
      "Date                                                                     \n",
      "2016-01-01  550.000000  554.474976  546.599976  552.625000  477.152191   \n",
      "2016-01-04  549.974976  551.224976  538.025024  539.450012  465.776550   \n",
      "2016-01-05  542.750000  542.750000  531.125000  537.025024  463.682709   \n",
      "2016-01-06  537.325012  537.325012  529.450012  534.674988  461.653625   \n",
      "2016-01-07  530.025024  533.950012  523.950012  525.400024  453.645386   \n",
      "2016-01-08  530.750000  533.700012  527.750000  531.650024  459.041748   \n",
      "2016-01-11  528.150024  534.974976  526.049988  527.849976  455.760742   \n",
      "2016-01-12  531.000000  531.474976  515.424988  524.974976  453.278351   \n",
      "2016-01-13  528.500000  545.500000  524.049988  541.700012  467.719269   \n",
      "2016-01-14  533.000000  577.500000  527.174988  566.500000  489.132233   \n",
      "2016-01-15  574.000000  582.000000  568.775024  569.950012  492.111084   \n",
      "2016-01-18  569.950012  581.049988  564.174988  565.950012  488.657410   \n",
      "2016-01-19  567.500000  579.474976  564.275024  569.825012  492.003235   \n",
      "2016-01-20  567.000000  580.000000  558.500000  560.625000  484.059692   \n",
      "2016-01-21  567.500000  571.250000  561.000000  568.525024  490.880707   \n",
      "2016-01-22  574.049988  576.250000  565.500000  568.125000  490.535339   \n",
      "2016-01-25  570.125000  573.424988  562.275024  568.825012  491.139771   \n",
      "2016-01-27  573.224976  574.799988  567.500000  569.250000  491.506683   \n",
      "2016-01-28  568.000000  571.299988  563.099976  564.799988  487.664429   \n",
      "2016-01-29  569.000000  585.000000  565.799988  582.450012  502.903992   \n",
      "2016-02-01  585.000000  589.950012  580.799988  586.674988  506.551941   \n",
      "2016-02-02  588.424988  595.000000  582.000000  587.775024  507.501709   \n",
      "2016-02-03  583.900024  587.950012  576.375000  578.849976  499.795563   \n",
      "2016-02-04  580.025024  597.474976  580.025024  589.875000  509.314941   \n",
      "2016-02-05  587.750000  593.325012  585.924988  587.349976  507.134766   \n",
      "2016-02-08  581.875000  586.099976  571.900024  575.400024  496.816772   \n",
      "2016-02-09  564.150024  564.150024  546.750000  553.825012  478.188324   \n",
      "2016-02-10  554.000000  563.750000  552.500000  554.275024  478.576935   \n",
      "2016-02-11  555.500000  556.500000  535.575012  539.325012  465.668610   \n",
      "2016-02-12  547.349976  552.200012  533.500000  542.325012  468.258911   \n",
      "...                ...         ...         ...         ...         ...   \n",
      "2018-10-09  717.099976  722.400024  702.650024  717.750000  710.018005   \n",
      "2018-10-10  719.900024  719.900024  695.400024  700.450012  692.904419   \n",
      "2018-10-11  685.000000  692.900024  663.299988  673.349976  666.096313   \n",
      "2018-10-12  676.400024  684.049988  661.500000  678.799988  671.487610   \n",
      "2018-10-15  688.599976  705.000000  681.500000  698.799988  691.272156   \n",
      "2018-10-16  710.000000  713.900024  689.400024  695.250000  687.760376   \n",
      "2018-10-17  710.000000  721.799988  701.349976  705.349976  697.751587   \n",
      "2018-10-19  687.000000  687.700012  678.000000  683.549988  676.186401   \n",
      "2018-10-22  688.700012  695.049988  673.799988  679.950012  672.625244   \n",
      "2018-10-23  675.950012  682.000000  653.299988  657.599976  650.515991   \n",
      "2018-10-24  663.000000  666.500000  647.150024  649.799988  642.799988   \n",
      "2018-10-25  643.000000  656.349976  636.250000  648.750000  648.750000   \n",
      "2018-10-26  645.299988  648.700012  629.900024  633.599976  633.599976   \n",
      "2018-10-29  633.700012  650.549988  631.500000  644.750000  644.750000   \n",
      "2018-10-30  641.099976  663.799988  637.450012  659.599976  659.599976   \n",
      "2018-10-31  663.900024  692.950012  663.049988  686.400024  686.400024   \n",
      "2018-11-01  689.700012  689.700012  659.599976  666.700012  666.700012   \n",
      "2018-11-02  665.950012  675.799988  660.099976  662.250000  662.250000   \n",
      "2018-11-05  663.500000  668.599976  657.000000  666.000000  666.000000   \n",
      "2018-11-06  667.900024  675.000000  660.650024  666.450012  666.450012   \n",
      "2018-11-09  679.000000  679.000000  655.500000  659.500000  659.500000   \n",
      "2018-11-12  666.000000  676.400024  662.299988  664.200012  664.200012   \n",
      "2018-11-13  663.500000  667.750000  656.299988  665.700012  665.700012   \n",
      "2018-11-14  665.700012  665.700012  640.500000  653.200012  653.200012   \n",
      "2018-11-15  654.000000  666.000000  646.700012  656.400024  656.400024   \n",
      "2018-11-16  659.900024  662.500000  644.200012  650.849976  650.849976   \n",
      "2018-11-19  659.000000  662.000000  649.250000  651.700012  651.700012   \n",
      "2018-11-20  651.700012  656.000000  640.099976  641.400024  641.400024   \n",
      "2018-11-21  640.000000  640.049988  612.099976  619.099976  619.099976   \n",
      "2018-11-22  622.250000  628.150024  616.750000  620.750000  620.750000   \n",
      "\n",
      "              Volume  \n",
      "Date                  \n",
      "2016-01-01   1806550  \n",
      "2016-01-04   3975362  \n",
      "2016-01-05   4949786  \n",
      "2016-01-06   5588328  \n",
      "2016-01-07   5294088  \n",
      "2016-01-08   3156716  \n",
      "2016-01-11   5360622  \n",
      "2016-01-12   6565212  \n",
      "2016-01-13   8751294  \n",
      "2016-01-14  30227006  \n",
      "2016-01-15  13036614  \n",
      "2016-01-18  10066612  \n",
      "2016-01-19   7500436  \n",
      "2016-01-20   7507998  \n",
      "2016-01-21   6743000  \n",
      "2016-01-22   6436018  \n",
      "2016-01-25   4579262  \n",
      "2016-01-27   6971962  \n",
      "2016-01-28   7788598  \n",
      "2016-01-29  10232108  \n",
      "2016-02-01   4251126  \n",
      "2016-02-02   7632702  \n",
      "2016-02-03   5245966  \n",
      "2016-02-04   5549346  \n",
      "2016-02-05   3984224  \n",
      "2016-02-08   4221044  \n",
      "2016-02-09   7579572  \n",
      "2016-02-10   5866054  \n",
      "2016-02-11   5214378  \n",
      "2016-02-12   7408096  \n",
      "...              ...  \n",
      "2018-10-09   6777212  \n",
      "2018-10-10   8866251  \n",
      "2018-10-11  10985897  \n",
      "2018-10-12   8909221  \n",
      "2018-10-15   6222176  \n",
      "2018-10-16  11588963  \n",
      "2018-10-17  20360697  \n",
      "2018-10-19  10421001  \n",
      "2018-10-22   6672840  \n",
      "2018-10-23   9041701  \n",
      "2018-10-24   7058164  \n",
      "2018-10-25   8270469  \n",
      "2018-10-26   5464141  \n",
      "2018-10-29   7137446  \n",
      "2018-10-30   8793411  \n",
      "2018-10-31  11947995  \n",
      "2018-11-01   5860244  \n",
      "2018-11-02   6654067  \n",
      "2018-11-05   5799426  \n",
      "2018-11-06   6975525  \n",
      "2018-11-09   9694143  \n",
      "2018-11-12   7118080  \n",
      "2018-11-13   4137801  \n",
      "2018-11-14   7323026  \n",
      "2018-11-15   5513390  \n",
      "2018-11-16   8583785  \n",
      "2018-11-19   6018930  \n",
      "2018-11-20   5384830  \n",
      "2018-11-21  14359086  \n",
      "2018-11-22   6632975  \n",
      "\n",
      "[714 rows x 6 columns], 'ICICIBANK':                   Open        High         Low       Close   Adj Close  \\\n",
      "Date                                                                     \n",
      "2016-01-01  237.544998  239.636002  234.544998  239.091003  226.445114   \n",
      "2016-01-04  237.272995  237.591003  231.500000  232.317993  220.030319   \n",
      "2016-01-05  232.955002  234.091003  228.817993  233.363998  221.021011   \n",
      "2016-01-06  232.182007  233.408997  226.544998  227.363998  215.338364   \n",
      "2016-01-07  224.000000  225.182007  221.000000  224.317993  212.453461   \n",
      "2016-01-08  222.272995  225.272995  221.317993  222.772995  210.990173   \n",
      "2016-01-11  219.908997  221.727005  216.408997  217.682007  206.168472   \n",
      "2016-01-12  219.091003  219.863998  214.182007  215.227005  203.843323   \n",
      "2016-01-13  216.182007  220.817993  210.091003  217.727005  206.211090   \n",
      "2016-01-14  212.908997  218.000000  210.727005  214.317993  202.982391   \n",
      "2016-01-15  214.182007  214.817993  201.591003  204.044998  193.252731   \n",
      "2016-01-18  203.817993  207.908997  198.000000  202.817993  192.090622   \n",
      "2016-01-19  204.227005  210.227005  204.227005  207.955002  196.955948   \n",
      "2016-01-20  204.455002  207.182007  200.091003  204.000000  193.210129   \n",
      "2016-01-21  207.727005  212.272995  203.817993  205.727005  194.845764   \n",
      "2016-01-22  211.455002  213.544998  208.908997  211.591003  200.399628   \n",
      "2016-01-25  214.500000  216.817993  212.908997  214.591003  203.240936   \n",
      "2016-01-27  216.363998  217.544998  213.363998  215.727005  204.316864   \n",
      "2016-01-28  216.863998  217.772995  210.227005  212.000000  200.786987   \n",
      "2016-01-29  199.091003  213.000000  199.091003  209.227005  198.160660   \n",
      "2016-02-01  206.363998  206.682007  196.272995  197.455002  187.011307   \n",
      "2016-02-02  198.182007  199.727005  190.636002  191.272995  181.156265   \n",
      "2016-02-03  188.182007  189.817993  184.136002  185.500000  175.688614   \n",
      "2016-02-04  187.636002  187.636002  182.272995  185.408997  175.602417   \n",
      "2016-02-05  186.817993  191.817993  185.091003  190.363998  180.295349   \n",
      "2016-02-08  191.817993  195.908997  187.408997  189.591003  179.563232   \n",
      "2016-02-09  185.455002  192.272995  182.500000  190.363998  180.295349   \n",
      "2016-02-10  184.636002  190.455002  183.636002  188.408997  178.443756   \n",
      "2016-02-11  185.227005  188.136002  180.000000  181.136002  171.555420   \n",
      "2016-02-12  178.727005  180.363998  173.182007  175.955002  166.648468   \n",
      "...                ...         ...         ...         ...         ...   \n",
      "2018-10-09  311.450012  311.899994  303.000000  306.250000  306.250000   \n",
      "2018-10-10  307.100006  322.950012  304.500000  319.850006  319.850006   \n",
      "2018-10-11  310.000000  315.450012  304.000000  311.700012  311.700012   \n",
      "2018-10-12  313.850006  324.250000  313.600006  319.399994  319.399994   \n",
      "2018-10-15  316.899994  317.899994  309.549988  313.350006  313.350006   \n",
      "2018-10-16  313.750000  322.950012  313.750000  320.649994  320.649994   \n",
      "2018-10-17  325.100006  328.149994  311.649994  314.799988  314.799988   \n",
      "2018-10-19  312.850006  321.500000  310.200012  315.450012  315.450012   \n",
      "2018-10-22  320.200012  329.850006  316.100006  327.100006  327.100006   \n",
      "2018-10-23  323.000000  328.600006  318.350006  322.850006  322.850006   \n",
      "2018-10-24  328.750000  330.000000  316.250000  322.000000  322.000000   \n",
      "2018-10-25  318.500000  322.049988  311.799988  319.950012  319.950012   \n",
      "2018-10-26  319.799988  323.399994  313.000000  315.649994  315.649994   \n",
      "2018-10-29  329.000000  352.950012  328.299988  349.399994  349.399994   \n",
      "2018-10-30  347.450012  353.850006  342.899994  345.700012  345.700012   \n",
      "2018-10-31  345.500000  356.549988  342.299988  355.000000  355.000000   \n",
      "2018-11-01  357.000000  358.450012  351.100006  353.700012  353.700012   \n",
      "2018-11-02  354.000000  357.799988  351.700012  354.450012  354.450012   \n",
      "2018-11-05  351.000000  351.850006  348.000000  349.649994  349.649994   \n",
      "2018-11-06  348.700012  358.299988  347.649994  353.100006  353.100006   \n",
      "2018-11-09  356.899994  358.100006  352.399994  356.850006  356.850006   \n",
      "2018-11-12  356.000000  358.200012  351.500000  352.350006  352.350006   \n",
      "2018-11-13  347.799988  361.950012  347.799988  360.899994  360.899994   \n",
      "2018-11-14  365.000000  369.899994  361.299988  366.600006  366.600006   \n",
      "2018-11-15  366.100006  374.899994  362.100006  370.000000  370.000000   \n",
      "2018-11-16  370.100006  375.299988  365.549988  367.549988  367.549988   \n",
      "2018-11-19  368.299988  370.700012  360.750000  362.399994  362.399994   \n",
      "2018-11-20  362.000000  365.450012  354.600006  357.899994  357.899994   \n",
      "2018-11-21  356.350006  360.299988  353.049988  356.750000  356.750000   \n",
      "2018-11-22  357.649994  358.500000  351.000000  352.049988  352.049988   \n",
      "\n",
      "              Volume  \n",
      "Date                  \n",
      "2016-01-01   5998097  \n",
      "2016-01-04   9435792  \n",
      "2016-01-05   8966978  \n",
      "2016-01-06  17416181  \n",
      "2016-01-07  18240713  \n",
      "2016-01-08  14404391  \n",
      "2016-01-11  14208668  \n",
      "2016-01-12  11895899  \n",
      "2016-01-13  18215711  \n",
      "2016-01-14  14600782  \n",
      "2016-01-15  22333903  \n",
      "2016-01-18  30239010  \n",
      "2016-01-19  16222439  \n",
      "2016-01-20  14353479  \n",
      "2016-01-21  15665863  \n",
      "2016-01-22  15148522  \n",
      "2016-01-25  17137268  \n",
      "2016-01-27  12155561  \n",
      "2016-01-28  24258167  \n",
      "2016-01-29  47755495  \n",
      "2016-02-01  40395716  \n",
      "2016-02-02  31821419  \n",
      "2016-02-03  23592289  \n",
      "2016-02-04  30869158  \n",
      "2016-02-05  36189377  \n",
      "2016-02-08  19366082  \n",
      "2016-02-09  20906682  \n",
      "2016-02-10  22742128  \n",
      "2016-02-11  31817116  \n",
      "2016-02-12  41775526  \n",
      "...              ...  \n",
      "2018-10-09  14852835  \n",
      "2018-10-10  23972064  \n",
      "2018-10-11  21691068  \n",
      "2018-10-12  25930022  \n",
      "2018-10-15  23756416  \n",
      "2018-10-16  18042549  \n",
      "2018-10-17  20203287  \n",
      "2018-10-19  18322589  \n",
      "2018-10-22  33593953  \n",
      "2018-10-23  21509920  \n",
      "2018-10-24  33104174  \n",
      "2018-10-25  26920180  \n",
      "2018-10-26  22952163  \n",
      "2018-10-29  80069836  \n",
      "2018-10-30  34460428  \n",
      "2018-10-31  31233009  \n",
      "2018-11-01  22157128  \n",
      "2018-11-02  26714413  \n",
      "2018-11-05  22873951  \n",
      "2018-11-06  21349153  \n",
      "2018-11-09  15130936  \n",
      "2018-11-12  10642857  \n",
      "2018-11-13  17684588  \n",
      "2018-11-14  31774158  \n",
      "2018-11-15  21967798  \n",
      "2018-11-16  29972926  \n",
      "2018-11-19  16002154  \n",
      "2018-11-20  19591217  \n",
      "2018-11-21  29323882  \n",
      "2018-11-22  12547369  \n",
      "\n",
      "[714 rows x 6 columns]}\n"
     ]
    }
   ],
   "source": [
    "print(data)"
   ]
  },
  {
   "cell_type": "markdown",
   "metadata": {},
   "source": [
    "###  Data Cleaning, Column renaming, etc"
   ]
  },
  {
   "cell_type": "code",
   "execution_count": 9,
   "metadata": {},
   "outputs": [
    {
     "name": "stderr",
     "output_type": "stream",
     "text": [
      "/Users/chris/Projects/RenkoBot/venv/lib/python3.7/site-packages/ipykernel_launcher.py:7: DeprecationWarning: \n",
      ".ix is deprecated. Please use\n",
      ".loc for label based indexing or\n",
      ".iloc for positional indexing\n",
      "\n",
      "See the documentation here:\n",
      "http://pandas.pydata.org/pandas-docs/stable/indexing.html#ix-indexer-is-deprecated\n",
      "  import sys\n"
     ]
    }
   ],
   "source": [
    "for stock in data:\n",
    "    data[stock].drop(data[stock][data[stock].Volume == 0].index, inplace=True) # Data Cleaning\n",
    "    ATR(data[stock],n)\n",
    "    data[stock]=data[stock][['Open','High','Low','Close','ATR']] # Removing unwanted columns"
   ]
  },
  {
   "cell_type": "code",
   "execution_count": 10,
   "metadata": {},
   "outputs": [
    {
     "data": {
      "text/html": [
       "<div>\n",
       "<style scoped>\n",
       "    .dataframe tbody tr th:only-of-type {\n",
       "        vertical-align: middle;\n",
       "    }\n",
       "\n",
       "    .dataframe tbody tr th {\n",
       "        vertical-align: top;\n",
       "    }\n",
       "\n",
       "    .dataframe thead th {\n",
       "        text-align: right;\n",
       "    }\n",
       "</style>\n",
       "<table border=\"1\" class=\"dataframe\">\n",
       "  <thead>\n",
       "    <tr style=\"text-align: right;\">\n",
       "      <th></th>\n",
       "      <th>Open</th>\n",
       "      <th>High</th>\n",
       "      <th>Low</th>\n",
       "      <th>Close</th>\n",
       "      <th>ATR</th>\n",
       "    </tr>\n",
       "    <tr>\n",
       "      <th>Date</th>\n",
       "      <th></th>\n",
       "      <th></th>\n",
       "      <th></th>\n",
       "      <th></th>\n",
       "      <th></th>\n",
       "    </tr>\n",
       "  </thead>\n",
       "  <tbody>\n",
       "    <tr>\n",
       "      <th>2016-01-01</th>\n",
       "      <td>550.000000</td>\n",
       "      <td>554.474976</td>\n",
       "      <td>546.599976</td>\n",
       "      <td>552.625000</td>\n",
       "      <td>NaN</td>\n",
       "    </tr>\n",
       "    <tr>\n",
       "      <th>2016-01-04</th>\n",
       "      <td>549.974976</td>\n",
       "      <td>551.224976</td>\n",
       "      <td>538.025024</td>\n",
       "      <td>539.450012</td>\n",
       "      <td>NaN</td>\n",
       "    </tr>\n",
       "    <tr>\n",
       "      <th>2016-01-05</th>\n",
       "      <td>542.750000</td>\n",
       "      <td>542.750000</td>\n",
       "      <td>531.125000</td>\n",
       "      <td>537.025024</td>\n",
       "      <td>NaN</td>\n",
       "    </tr>\n",
       "    <tr>\n",
       "      <th>2016-01-06</th>\n",
       "      <td>537.325012</td>\n",
       "      <td>537.325012</td>\n",
       "      <td>529.450012</td>\n",
       "      <td>534.674988</td>\n",
       "      <td>NaN</td>\n",
       "    </tr>\n",
       "    <tr>\n",
       "      <th>2016-01-07</th>\n",
       "      <td>530.025024</td>\n",
       "      <td>533.950012</td>\n",
       "      <td>523.950012</td>\n",
       "      <td>525.400024</td>\n",
       "      <td>NaN</td>\n",
       "    </tr>\n",
       "  </tbody>\n",
       "</table>\n",
       "</div>"
      ],
      "text/plain": [
       "                  Open        High         Low       Close  ATR\n",
       "Date                                                           \n",
       "2016-01-01  550.000000  554.474976  546.599976  552.625000  NaN\n",
       "2016-01-04  549.974976  551.224976  538.025024  539.450012  NaN\n",
       "2016-01-05  542.750000  542.750000  531.125000  537.025024  NaN\n",
       "2016-01-06  537.325012  537.325012  529.450012  534.674988  NaN\n",
       "2016-01-07  530.025024  533.950012  523.950012  525.400024  NaN"
      ]
     },
     "execution_count": 10,
     "metadata": {},
     "output_type": "execute_result"
    }
   ],
   "source": [
    "data['INFY'].head() #Since ATR period is 7, we will see atr column filling out from 7th row"
   ]
  },
  {
   "cell_type": "code",
   "execution_count": 11,
   "metadata": {},
   "outputs": [
    {
     "data": {
      "text/html": [
       "<div>\n",
       "<style scoped>\n",
       "    .dataframe tbody tr th:only-of-type {\n",
       "        vertical-align: middle;\n",
       "    }\n",
       "\n",
       "    .dataframe tbody tr th {\n",
       "        vertical-align: top;\n",
       "    }\n",
       "\n",
       "    .dataframe thead th {\n",
       "        text-align: right;\n",
       "    }\n",
       "</style>\n",
       "<table border=\"1\" class=\"dataframe\">\n",
       "  <thead>\n",
       "    <tr style=\"text-align: right;\">\n",
       "      <th></th>\n",
       "      <th>Open</th>\n",
       "      <th>High</th>\n",
       "      <th>Low</th>\n",
       "      <th>Close</th>\n",
       "      <th>ATR</th>\n",
       "    </tr>\n",
       "    <tr>\n",
       "      <th>Date</th>\n",
       "      <th></th>\n",
       "      <th></th>\n",
       "      <th></th>\n",
       "      <th></th>\n",
       "      <th></th>\n",
       "    </tr>\n",
       "  </thead>\n",
       "  <tbody>\n",
       "    <tr>\n",
       "      <th>2016-01-01</th>\n",
       "      <td>237.544998</td>\n",
       "      <td>239.636002</td>\n",
       "      <td>234.544998</td>\n",
       "      <td>239.091003</td>\n",
       "      <td>NaN</td>\n",
       "    </tr>\n",
       "    <tr>\n",
       "      <th>2016-01-04</th>\n",
       "      <td>237.272995</td>\n",
       "      <td>237.591003</td>\n",
       "      <td>231.500000</td>\n",
       "      <td>232.317993</td>\n",
       "      <td>NaN</td>\n",
       "    </tr>\n",
       "    <tr>\n",
       "      <th>2016-01-05</th>\n",
       "      <td>232.955002</td>\n",
       "      <td>234.091003</td>\n",
       "      <td>228.817993</td>\n",
       "      <td>233.363998</td>\n",
       "      <td>NaN</td>\n",
       "    </tr>\n",
       "    <tr>\n",
       "      <th>2016-01-06</th>\n",
       "      <td>232.182007</td>\n",
       "      <td>233.408997</td>\n",
       "      <td>226.544998</td>\n",
       "      <td>227.363998</td>\n",
       "      <td>NaN</td>\n",
       "    </tr>\n",
       "    <tr>\n",
       "      <th>2016-01-07</th>\n",
       "      <td>224.000000</td>\n",
       "      <td>225.182007</td>\n",
       "      <td>221.000000</td>\n",
       "      <td>224.317993</td>\n",
       "      <td>NaN</td>\n",
       "    </tr>\n",
       "    <tr>\n",
       "      <th>2016-01-08</th>\n",
       "      <td>222.272995</td>\n",
       "      <td>225.272995</td>\n",
       "      <td>221.317993</td>\n",
       "      <td>222.772995</td>\n",
       "      <td>NaN</td>\n",
       "    </tr>\n",
       "    <tr>\n",
       "      <th>2016-01-11</th>\n",
       "      <td>219.908997</td>\n",
       "      <td>221.727005</td>\n",
       "      <td>216.408997</td>\n",
       "      <td>217.682007</td>\n",
       "      <td>5.856336</td>\n",
       "    </tr>\n",
       "    <tr>\n",
       "      <th>2016-01-12</th>\n",
       "      <td>219.091003</td>\n",
       "      <td>219.863998</td>\n",
       "      <td>214.182007</td>\n",
       "      <td>215.227005</td>\n",
       "      <td>5.831430</td>\n",
       "    </tr>\n",
       "    <tr>\n",
       "      <th>2016-01-13</th>\n",
       "      <td>216.182007</td>\n",
       "      <td>220.817993</td>\n",
       "      <td>210.091003</td>\n",
       "      <td>217.727005</td>\n",
       "      <td>6.530795</td>\n",
       "    </tr>\n",
       "    <tr>\n",
       "      <th>2016-01-14</th>\n",
       "      <td>212.908997</td>\n",
       "      <td>218.000000</td>\n",
       "      <td>210.727005</td>\n",
       "      <td>214.317993</td>\n",
       "      <td>6.636824</td>\n",
       "    </tr>\n",
       "  </tbody>\n",
       "</table>\n",
       "</div>"
      ],
      "text/plain": [
       "                  Open        High         Low       Close       ATR\n",
       "Date                                                                \n",
       "2016-01-01  237.544998  239.636002  234.544998  239.091003       NaN\n",
       "2016-01-04  237.272995  237.591003  231.500000  232.317993       NaN\n",
       "2016-01-05  232.955002  234.091003  228.817993  233.363998       NaN\n",
       "2016-01-06  232.182007  233.408997  226.544998  227.363998       NaN\n",
       "2016-01-07  224.000000  225.182007  221.000000  224.317993       NaN\n",
       "2016-01-08  222.272995  225.272995  221.317993  222.772995       NaN\n",
       "2016-01-11  219.908997  221.727005  216.408997  217.682007  5.856336\n",
       "2016-01-12  219.091003  219.863998  214.182007  215.227005  5.831430\n",
       "2016-01-13  216.182007  220.817993  210.091003  217.727005  6.530795\n",
       "2016-01-14  212.908997  218.000000  210.727005  214.317993  6.636824"
      ]
     },
     "execution_count": 11,
     "metadata": {},
     "output_type": "execute_result"
    }
   ],
   "source": [
    "data['ICICIBANK'].head(10)"
   ]
  },
  {
   "cell_type": "markdown",
   "metadata": {},
   "source": [
    "### Initializing Renkodata Dictionary which will contain Renko BrickSize, Open, Close and its Color"
   ]
  },
  {
   "cell_type": "code",
   "execution_count": 12,
   "metadata": {},
   "outputs": [],
   "source": [
    "for stock in data:\n",
    "    renkoData[stock]={'BrickSize':0.0, 'Open':0.0,'Close':0.0,'Color':''}"
   ]
  },
  {
   "cell_type": "markdown",
   "metadata": {},
   "source": [
    "### Setting up Bricksize from the last row of ATR column or it can be set manually as well with custom size "
   ]
  },
  {
   "cell_type": "code",
   "execution_count": 13,
   "metadata": {
    "scrolled": false
   },
   "outputs": [],
   "source": [
    "for stock in data:\n",
    "    renkoData[stock]['BrickSize']=round(data[stock]['ATR'][-1],2) #This can be set manually as well!\n",
    "    renkoData[stock]['Open']=renkoData[stock]['BrickSize']+renkoData[stock]['Close'] # This can be done the otherway round\n",
    "                                                                                    # as well.'Close' = 'BrickSize' - 'Open' \n",
    "    renkoData[stock]['Color']='red'    # Should you choose to do the other way round, please change the color to 'green'"
   ]
  },
  {
   "cell_type": "code",
   "execution_count": 14,
   "metadata": {},
   "outputs": [
    {
     "data": {
      "text/plain": [
       "{'BrickSize': 9.79, 'Open': 9.79, 'Close': 0.0, 'Color': 'red'}"
      ]
     },
     "execution_count": 14,
     "metadata": {},
     "output_type": "execute_result"
    }
   ],
   "source": [
    "renkoData['ICICIBANK']"
   ]
  },
  {
   "cell_type": "code",
   "execution_count": 15,
   "metadata": {},
   "outputs": [
    {
     "data": {
      "text/plain": [
       "{'BrickSize': 18.74, 'Open': 18.74, 'Close': 0.0, 'Color': 'red'}"
      ]
     },
     "execution_count": 15,
     "metadata": {},
     "output_type": "execute_result"
    }
   ],
   "source": [
    "renkoData['INFY']"
   ]
  },
  {
   "cell_type": "markdown",
   "metadata": {},
   "source": [
    " ### Setting us the finalData dictionary which will contain  Renko OHLC data along with the bar color!"
   ]
  },
  {
   "cell_type": "code",
   "execution_count": 16,
   "metadata": {},
   "outputs": [],
   "source": [
    "for stock in data:\n",
    "    finalData[stock]=pd.DataFrame()\n",
    "    finalData[stock].index.name='Date'\n",
    "    finalData[stock]['ReOpen']=0.0\n",
    "    finalData[stock]['ReHigh']=0.0\n",
    "    finalData[stock]['ReLow']=0.0\n",
    "    finalData[stock]['ReClose']=0.0\n",
    "    finalData[stock]['Color']=''"
   ]
  },
  {
   "cell_type": "markdown",
   "metadata": {},
   "source": [
    "\n",
    "### The calculation involves searching for Renko bars as and when prices close above or below the previous renko bars and recording it "
   ]
  },
  {
   "cell_type": "code",
   "execution_count": 17,
   "metadata": {},
   "outputs": [],
   "source": [
    "for stock in data: # This loops thorugh all the stocks in the data dictionary\n",
    "    for index,row in data[stock].iterrows(): # One may choose to use Pure python instead of Iterrows to loop though each n \n",
    "                                         # every row to improve performace if datasets are large.\n",
    "        if renkoData[stock]['Open']> renkoData[stock]['Close']: \n",
    "            while row['Close']> renkoData[stock]['Open']+renkoData[stock]['BrickSize']:\n",
    "                renkoData[stock]['Open']+=renkoData[stock]['BrickSize']\n",
    "                renkoData[stock]['Close']+=renkoData[stock]['BrickSize']\n",
    "                finalData[stock].loc[index]=row\n",
    "                finalData[stock]['ReOpen'].loc[index]= renkoData[stock]['Close']         \n",
    "                finalData[stock]['ReHigh'].loc[index]=renkoData[stock]['Open']\n",
    "                finalData[stock]['ReLow'].loc[index]=renkoData[stock]['Close']\n",
    "                finalData[stock]['ReClose'].loc[index]=renkoData[stock]['Open']\n",
    "                finalData[stock]['Color'].loc[index]='green'\n",
    "\n",
    "            while row['Close'] < renkoData[stock]['Close']-renkoData[stock]['BrickSize']:\n",
    "                renkoData[stock]['Open']-=renkoData[stock]['BrickSize']\n",
    "                renkoData[stock]['Close']-=renkoData[stock]['BrickSize']\n",
    "                finalData[stock].loc[index]=row\n",
    "                finalData[stock]['ReOpen'].loc[index]= renkoData[stock]['Open']         \n",
    "                finalData[stock]['ReHigh'].loc[index]=renkoData[stock]['Open']\n",
    "                finalData[stock]['ReLow'].loc[index]=renkoData[stock]['Close']\n",
    "                finalData[stock]['ReClose'].loc[index]=renkoData[stock]['Close']\n",
    "                finalData[stock]['Color'].loc[index]='red'\n",
    "                \n",
    "        else:\n",
    "            while row['Close']< renkoData[stock]['Open']-renkoData[stock]['BrickSize']:\n",
    "                renkoData[stock]['Open']-=renkoData[stock]['BrickSize']\n",
    "                renkoData[stock]['Close']-=renkoData[stock]['BrickSize']\n",
    "                finalData[stock].loc[index]=row\n",
    "                finalData[stock]['ReOpen'].loc[index]= renkoData[stock]['Close']         \n",
    "                finalData[stock]['ReHigh'].loc[index]=renkoData[stock]['Close']\n",
    "                finalData[stock]['ReLow'].loc[index]=renkoData[stock]['Open']\n",
    "                finalData[stock]['ReClose'].loc[index]=renkoData[stock]['Open']\n",
    "                finalData[stock]['Color'].loc[index]='red'\n",
    "                \n",
    "            while row['Close'] > renkoData[stock]['Close']+renkoData[stock]['BrickSize']:\n",
    "                renkoData[stock]['Open']+=renkoData[stock]['BrickSize']\n",
    "                renkoData[stock]['Close']+=renkoData[stock]['BrickSize']\n",
    "                finalData[stock].loc[index]=row\n",
    "                finalData[stock]['ReOpen'].loc[index]= renkoData[stock]['Open']         \n",
    "                finalData[stock]['ReHigh'].loc[index]=renkoData[stock]['Close']\n",
    "                finalData[stock]['ReLow'].loc[index]=renkoData[stock]['Open']\n",
    "                finalData[stock]['ReClose'].loc[index]=renkoData[stock]['Close']\n",
    "                finalData[stock]['Color'].loc[index]='green'\n",
    "\n"
   ]
  },
  {
   "cell_type": "code",
   "execution_count": 18,
   "metadata": {
    "scrolled": false
   },
   "outputs": [
    {
     "data": {
      "text/html": [
       "<div>\n",
       "<style scoped>\n",
       "    .dataframe tbody tr th:only-of-type {\n",
       "        vertical-align: middle;\n",
       "    }\n",
       "\n",
       "    .dataframe tbody tr th {\n",
       "        vertical-align: top;\n",
       "    }\n",
       "\n",
       "    .dataframe thead th {\n",
       "        text-align: right;\n",
       "    }\n",
       "</style>\n",
       "<table border=\"1\" class=\"dataframe\">\n",
       "  <thead>\n",
       "    <tr style=\"text-align: right;\">\n",
       "      <th></th>\n",
       "      <th>ReOpen</th>\n",
       "      <th>ReHigh</th>\n",
       "      <th>ReLow</th>\n",
       "      <th>ReClose</th>\n",
       "      <th>Color</th>\n",
       "    </tr>\n",
       "    <tr>\n",
       "      <th>Date</th>\n",
       "      <th></th>\n",
       "      <th></th>\n",
       "      <th></th>\n",
       "      <th></th>\n",
       "      <th></th>\n",
       "    </tr>\n",
       "  </thead>\n",
       "  <tbody>\n",
       "    <tr>\n",
       "      <th>2018-09-12</th>\n",
       "      <td>332.86</td>\n",
       "      <td>332.86</td>\n",
       "      <td>323.07</td>\n",
       "      <td>323.07</td>\n",
       "      <td>red</td>\n",
       "    </tr>\n",
       "    <tr>\n",
       "      <th>2018-09-24</th>\n",
       "      <td>323.07</td>\n",
       "      <td>323.07</td>\n",
       "      <td>313.28</td>\n",
       "      <td>313.28</td>\n",
       "      <td>red</td>\n",
       "    </tr>\n",
       "    <tr>\n",
       "      <th>2018-10-29</th>\n",
       "      <td>332.86</td>\n",
       "      <td>342.65</td>\n",
       "      <td>332.86</td>\n",
       "      <td>342.65</td>\n",
       "      <td>green</td>\n",
       "    </tr>\n",
       "    <tr>\n",
       "      <th>2018-10-31</th>\n",
       "      <td>342.65</td>\n",
       "      <td>352.44</td>\n",
       "      <td>342.65</td>\n",
       "      <td>352.44</td>\n",
       "      <td>green</td>\n",
       "    </tr>\n",
       "    <tr>\n",
       "      <th>2018-11-14</th>\n",
       "      <td>352.44</td>\n",
       "      <td>362.23</td>\n",
       "      <td>352.44</td>\n",
       "      <td>362.23</td>\n",
       "      <td>green</td>\n",
       "    </tr>\n",
       "  </tbody>\n",
       "</table>\n",
       "</div>"
      ],
      "text/plain": [
       "            ReOpen  ReHigh   ReLow  ReClose  Color\n",
       "Date                                              \n",
       "2018-09-12  332.86  332.86  323.07   323.07    red\n",
       "2018-09-24  323.07  323.07  313.28   313.28    red\n",
       "2018-10-29  332.86  342.65  332.86   342.65  green\n",
       "2018-10-31  342.65  352.44  342.65   352.44  green\n",
       "2018-11-14  352.44  362.23  352.44   362.23  green"
      ]
     },
     "execution_count": 18,
     "metadata": {},
     "output_type": "execute_result"
    }
   ],
   "source": [
    "finalData['ICICIBANK'].tail()"
   ]
  },
  {
   "cell_type": "code",
   "execution_count": 19,
   "metadata": {},
   "outputs": [
    {
     "data": {
      "text/html": [
       "<div>\n",
       "<style scoped>\n",
       "    .dataframe tbody tr th:only-of-type {\n",
       "        vertical-align: middle;\n",
       "    }\n",
       "\n",
       "    .dataframe tbody tr th {\n",
       "        vertical-align: top;\n",
       "    }\n",
       "\n",
       "    .dataframe thead th {\n",
       "        text-align: right;\n",
       "    }\n",
       "</style>\n",
       "<table border=\"1\" class=\"dataframe\">\n",
       "  <thead>\n",
       "    <tr style=\"text-align: right;\">\n",
       "      <th></th>\n",
       "      <th>ReOpen</th>\n",
       "      <th>ReHigh</th>\n",
       "      <th>ReLow</th>\n",
       "      <th>ReClose</th>\n",
       "      <th>Color</th>\n",
       "    </tr>\n",
       "    <tr>\n",
       "      <th>Date</th>\n",
       "      <th></th>\n",
       "      <th></th>\n",
       "      <th></th>\n",
       "      <th></th>\n",
       "      <th></th>\n",
       "    </tr>\n",
       "  </thead>\n",
       "  <tbody>\n",
       "    <tr>\n",
       "      <th>2018-10-11</th>\n",
       "      <td>693.38</td>\n",
       "      <td>693.38</td>\n",
       "      <td>674.64</td>\n",
       "      <td>674.64</td>\n",
       "      <td>red</td>\n",
       "    </tr>\n",
       "    <tr>\n",
       "      <th>2018-10-24</th>\n",
       "      <td>674.64</td>\n",
       "      <td>674.64</td>\n",
       "      <td>655.90</td>\n",
       "      <td>655.90</td>\n",
       "      <td>red</td>\n",
       "    </tr>\n",
       "    <tr>\n",
       "      <th>2018-10-26</th>\n",
       "      <td>655.90</td>\n",
       "      <td>655.90</td>\n",
       "      <td>637.16</td>\n",
       "      <td>637.16</td>\n",
       "      <td>red</td>\n",
       "    </tr>\n",
       "    <tr>\n",
       "      <th>2018-10-31</th>\n",
       "      <td>655.90</td>\n",
       "      <td>674.64</td>\n",
       "      <td>655.90</td>\n",
       "      <td>674.64</td>\n",
       "      <td>green</td>\n",
       "    </tr>\n",
       "    <tr>\n",
       "      <th>2018-11-21</th>\n",
       "      <td>655.90</td>\n",
       "      <td>655.90</td>\n",
       "      <td>637.16</td>\n",
       "      <td>637.16</td>\n",
       "      <td>red</td>\n",
       "    </tr>\n",
       "  </tbody>\n",
       "</table>\n",
       "</div>"
      ],
      "text/plain": [
       "            ReOpen  ReHigh   ReLow  ReClose  Color\n",
       "Date                                              \n",
       "2018-10-11  693.38  693.38  674.64   674.64    red\n",
       "2018-10-24  674.64  674.64  655.90   655.90    red\n",
       "2018-10-26  655.90  655.90  637.16   637.16    red\n",
       "2018-10-31  655.90  674.64  655.90   674.64  green\n",
       "2018-11-21  655.90  655.90  637.16   637.16    red"
      ]
     },
     "execution_count": 19,
     "metadata": {},
     "output_type": "execute_result"
    }
   ],
   "source": [
    "finalData['INFY'].tail()"
   ]
  },
  {
   "cell_type": "markdown",
   "metadata": {
    "collapsed": true
   },
   "source": [
    "#### Taking data to excel sheet"
   ]
  },
  {
   "cell_type": "code",
   "execution_count": 22,
   "metadata": {
    "scrolled": false
   },
   "outputs": [],
   "source": [
    "writer = pd.ExcelWriter('Data.xlsx')\n",
    "for stock in data:\n",
    "    data[stock].to_excel(writer,stock)\n",
    "writer.save()\n",
    "\n",
    "writer = pd.ExcelWriter('RenkoData.xlsx')\n",
    "for stock in finalData:\n",
    "    finalData[stock].to_excel(writer,stock)\n",
    "writer.save()\n"
   ]
  },
  {
   "cell_type": "code",
   "execution_count": 23,
   "metadata": {},
   "outputs": [
    {
     "ename": "NameError",
     "evalue": "name 'file' is not defined",
     "output_type": "error",
     "traceback": [
      "\u001b[0;31m---------------------------------------------------------------------------\u001b[0m",
      "\u001b[0;31mNameError\u001b[0m                                 Traceback (most recent call last)",
      "\u001b[0;32m<ipython-input-23-868ac581c76a>\u001b[0m in \u001b[0;36m<module>\u001b[0;34m\u001b[0m\n\u001b[1;32m     40\u001b[0m \u001b[0;34m\u001b[0m\u001b[0m\n\u001b[1;32m     41\u001b[0m \u001b[0;34m\u001b[0m\u001b[0m\n\u001b[0;32m---> 42\u001b[0;31m \u001b[0mdf\u001b[0m \u001b[0;34m=\u001b[0m \u001b[0mpd\u001b[0m\u001b[0;34m.\u001b[0m\u001b[0mread_csv\u001b[0m\u001b[0;34m(\u001b[0m\u001b[0mfile\u001b[0m\u001b[0;34m)\u001b[0m\u001b[0;34m\u001b[0m\u001b[0;34m\u001b[0m\u001b[0m\n\u001b[0m\u001b[1;32m     43\u001b[0m \u001b[0;34m\u001b[0m\u001b[0m\n\u001b[1;32m     44\u001b[0m \u001b[0mdf\u001b[0m\u001b[0;34m[\u001b[0m\u001b[0;34m'cdiff'\u001b[0m\u001b[0;34m]\u001b[0m \u001b[0;34m=\u001b[0m \u001b[0mdf\u001b[0m\u001b[0;34m[\u001b[0m\u001b[0;34m'close'\u001b[0m\u001b[0;34m]\u001b[0m \u001b[0;34m-\u001b[0m \u001b[0mdf\u001b[0m\u001b[0;34m[\u001b[0m\u001b[0;34m'close'\u001b[0m\u001b[0;34m]\u001b[0m\u001b[0;34m.\u001b[0m\u001b[0mshift\u001b[0m\u001b[0;34m(\u001b[0m\u001b[0;36m1\u001b[0m\u001b[0;34m)\u001b[0m\u001b[0;34m\u001b[0m\u001b[0;34m\u001b[0m\u001b[0m\n",
      "\u001b[0;31mNameError\u001b[0m: name 'file' is not defined"
     ]
    }
   ],
   "source": []
  },
  {
   "cell_type": "code",
   "execution_count": null,
   "metadata": {},
   "outputs": [],
   "source": []
  }
 ],
 "metadata": {
  "kernelspec": {
   "display_name": "Python3 (py3env)",
   "language": "python",
   "name": "testenv"
  },
  "language_info": {
   "codemirror_mode": {
    "name": "ipython",
    "version": 3
   },
   "file_extension": ".py",
   "mimetype": "text/x-python",
   "name": "python",
   "nbconvert_exporter": "python",
   "pygments_lexer": "ipython3",
   "version": "3.7.1"
  }
 },
 "nbformat": 4,
 "nbformat_minor": 2
}
