{
 "cells": [
  {
   "cell_type": "code",
   "execution_count": 6,
   "metadata": {},
   "outputs": [
    {
     "name": "stdout",
     "output_type": "stream",
     "text": [
      "{'Response': 'Success', 'Type': 100, 'Aggregated': False, 'Data': [{'time': 1543021200, 'close': 4401.97, 'high': 4420.71, 'low': 4381.19, 'open': 4413.17, 'volumefrom': 3806.84, 'volumeto': 16846940.67}, {'time': 1543024800, 'close': 4362.61, 'high': 4417.32, 'low': 4361.07, 'open': 4401.97, 'volumefrom': 3201.26, 'volumeto': 14044154.85}, {'time': 1543028400, 'close': 4362.69, 'high': 4380.48, 'low': 4357.53, 'open': 4362.61, 'volumefrom': 1697.4, 'volumeto': 7392775.72}, {'time': 1543032000, 'close': 4365.44, 'high': 4386.29, 'low': 4361.75, 'open': 4363.1, 'volumefrom': 1490.84, 'volumeto': 6494653.89}, {'time': 1543035600, 'close': 4340.92, 'high': 4368.05, 'low': 4322.2, 'open': 4365.32, 'volumefrom': 2133.07, 'volumeto': 9282947.71}, {'time': 1543039200, 'close': 4343.61, 'high': 4351.65, 'low': 4333.11, 'open': 4340.85, 'volumefrom': 839.63, 'volumeto': 3658544.6}, {'time': 1543042800, 'close': 4326.22, 'high': 4344.04, 'low': 4297.42, 'open': 4343.61, 'volumefrom': 3041.92, 'volumeto': 13195078.89}, {'time': 1543046400, 'close': 4355.29, 'high': 4355.37, 'low': 4323.86, 'open': 4326.22, 'volumefrom': 1277.76, 'volumeto': 5556083.87}, {'time': 1543050000, 'close': 4374.05, 'high': 4383.16, 'low': 4325.96, 'open': 4355.29, 'volumefrom': 2408.92, 'volumeto': 10581593.86}, {'time': 1543053600, 'close': 4318.03, 'high': 4376.42, 'low': 4313.69, 'open': 4374.17, 'volumefrom': 2637.19, 'volumeto': 11503572.08}, {'time': 1543057200, 'close': 4320.79, 'high': 4320.79, 'low': 4317.61, 'open': 4318.03, 'volumefrom': 20.38, 'volumeto': 87867.64}], 'TimeTo': 1543057200, 'TimeFrom': 1543021200, 'FirstValueInArray': True, 'ConversionType': {'type': 'direct', 'conversionSymbol': ''}, 'RateLimit': {}, 'HasWarning': False}\n"
     ]
    }
   ],
   "source": [
    "import requests\n",
    "from requests_oauthlib import OAuth1\n",
    "\n",
    "url = 'https://min-api.cryptocompare.com/data/histohour?fsym=BTC&tsym=USD&limit=10'\n",
    "auth = OAuth1('2e835c785044b6752bbc69cd3fa9e19dae4e55c1cfa004465c683293704573cd')\n",
    "\n",
    "r = requests.get(url, auth=auth)\n",
    "\n",
    "print (r.json())\n"
   ]
  },
  {
   "cell_type": "code",
   "execution_count": null,
   "metadata": {},
   "outputs": [],
   "source": []
  }
 ],
 "metadata": {
  "kernelspec": {
   "display_name": "Python 3",
   "language": "python",
   "name": "python3"
  },
  "language_info": {
   "codemirror_mode": {
    "name": "ipython",
    "version": 3
   },
   "file_extension": ".py",
   "mimetype": "text/x-python",
   "name": "python",
   "nbconvert_exporter": "python",
   "pygments_lexer": "ipython3",
   "version": "3.7.1"
  }
 },
 "nbformat": 4,
 "nbformat_minor": 2
}
