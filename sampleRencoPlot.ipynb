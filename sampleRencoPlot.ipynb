{
 "cells": [
  {
   "cell_type": "markdown",
   "metadata": {},
   "source": [
    "#### Importing necessary libraries"
   ]
  },
  {
   "cell_type": "code",
   "execution_count": 1,
   "metadata": {},
   "outputs": [],
   "source": [
    "import pandas as pd\n",
    "pd.options.mode.chained_assignment = None # This avoids SettingWithCopyWarnings\n",
    "import numpy as np\n",
    "\n"
   ]
  },
  {
   "cell_type": "code",
   "execution_count": 2,
   "metadata": {
    "scrolled": true
   },
   "outputs": [
    {
     "ename": "ModuleNotFoundError",
     "evalue": "No module named 'pandas_datareader'",
     "output_type": "error",
     "traceback": [
      "\u001b[0;31m---------------------------------------------------------------------------\u001b[0m",
      "\u001b[0;31mModuleNotFoundError\u001b[0m                       Traceback (most recent call last)",
      "\u001b[0;32m<ipython-input-2-895254102a28>\u001b[0m in \u001b[0;36m<module>\u001b[0;34m()\u001b[0m\n\u001b[0;32m----> 1\u001b[0;31m \u001b[0;32mfrom\u001b[0m \u001b[0mpandas_datareader\u001b[0m \u001b[0;32mimport\u001b[0m \u001b[0mdata\u001b[0m \u001b[0;32mas\u001b[0m \u001b[0mpdr\u001b[0m\u001b[0;34m\u001b[0m\u001b[0m\n\u001b[0m\u001b[1;32m      2\u001b[0m \u001b[0;32mimport\u001b[0m \u001b[0mfix_yahoo_finance\u001b[0m \u001b[0;32mas\u001b[0m \u001b[0myf\u001b[0m\u001b[0;34m\u001b[0m\u001b[0m\n\u001b[1;32m      3\u001b[0m \u001b[0myf\u001b[0m\u001b[0;34m.\u001b[0m\u001b[0mpdr_override\u001b[0m\u001b[0;34m(\u001b[0m\u001b[0;34m)\u001b[0m\u001b[0;34m\u001b[0m\u001b[0m\n",
      "\u001b[0;31mModuleNotFoundError\u001b[0m: No module named 'pandas_datareader'"
     ]
    }
   ],
   "source": [
    "from pandas_datareader import data as pdr\n",
    "import fix_yahoo_finance as yf\n",
    "yf.pdr_override()"
   ]
  },
  {
   "cell_type": "markdown",
   "metadata": {},
   "source": [
    "### Initializing Variables\n"
   ]
  },
  {
   "cell_type": "code",
   "execution_count": null,
   "metadata": {},
   "outputs": [],
   "source": [
    "data={} # Dictionary to contain pandas dataframe for all the stocks. This is to avoid creating variable for each stock \n",
    "        # to store data\n",
    "finalData={} # This should contain our final output and that is Renko OHLC data\n",
    "n=7 # Period for ATR\n",
    "renkoData={} # It contains information on the lastest bar of renko data for the number of stocks we are working on"
   ]
  },
  {
   "cell_type": "markdown",
   "metadata": {},
   "source": [
    "### Average True Range is generally used as Renko bar size. However we can also use a custom bar size"
   ]
  },
  {
   "cell_type": "code",
   "execution_count": null,
   "metadata": {},
   "outputs": [],
   "source": [
    "def ATR(df,n): #df is the DataFrame, n is the period 7,14 ,etc\n",
    "    df['H-L']=abs(df['High']-df['Low'])\n",
    "    df['H-PC']=abs(df['High']-df['Close'].shift(1))\n",
    "    df['L-PC']=abs(df['Low']-df['Close'].shift(1))\n",
    "    df['TR']=df[['H-L','H-PC','L-PC']].max(axis=1)\n",
    "    df['ATR']=np.nan\n",
    "    df.ix[n-1,'ATR']=df['TR'][:n-1].mean() #.ix is deprecated from pandas version- 0.19\n",
    "    for i in range(n,len(df)):\n",
    "        df['ATR'][i]=(df['ATR'][i-1]*(n-1)+ df['TR'][i])/n\n",
    "    return "
   ]
  },
  {
   "cell_type": "markdown",
   "metadata": {},
   "source": [
    "### Set of Stocks"
   ]
  },
  {
   "cell_type": "code",
   "execution_count": null,
   "metadata": {},
   "outputs": [],
   "source": [
    "StockList=['INFY', 'ICICIBANK'] "
   ]
  },
  {
   "cell_type": "markdown",
   "metadata": {},
   "source": [
    "### Fetching data using Yahoo API,  Setting up Pandas Dataframe in the dictionary 'data' with key as Stock name and Value as DataFrame\n"
   ]
  },
  {
   "cell_type": "code",
   "execution_count": null,
   "metadata": {},
   "outputs": [],
   "source": [
    "start='2016-1-1'\n",
    "for stock in StockList:\n",
    "    data[stock]=pdr.get_data_yahoo(stock+'.NS', start)"
   ]
  },
  {
   "cell_type": "markdown",
   "metadata": {},
   "source": [
    "#### Sometimes due to rate limiting factor, Yahoo api when called yeilds no data. Below cell helps us out in figuring whether we need to ping the api again. "
   ]
  },
  {
   "cell_type": "code",
   "execution_count": null,
   "metadata": {},
   "outputs": [],
   "source": [
    "for stock in data:\n",
    "    if data[stock].empty:\n",
    "        print stock"
   ]
  },
  {
   "cell_type": "code",
   "execution_count": null,
   "metadata": {
    "scrolled": true
   },
   "outputs": [],
   "source": [
    "for stock in data:\n",
    "    print stock, data[stock].head()"
   ]
  },
  {
   "cell_type": "markdown",
   "metadata": {},
   "source": [
    "###  Data Cleaning, Column renaming, etc"
   ]
  },
  {
   "cell_type": "code",
   "execution_count": null,
   "metadata": {},
   "outputs": [],
   "source": [
    "for stock in data:\n",
    "    data[stock].drop(data[stock][data[stock].Volume == 0].index, inplace=True) # Data Cleaning\n",
    "    ATR(data[stock],n)\n",
    "    data[stock]=data[stock][['Open','High','Low','Close','ATR']] # Removing unwanted columns"
   ]
  },
  {
   "cell_type": "code",
   "execution_count": null,
   "metadata": {},
   "outputs": [],
   "source": [
    "data['INFY'].head() #Since ATR period is 7, we will see atr column filling out from 7th row"
   ]
  },
  {
   "cell_type": "code",
   "execution_count": null,
   "metadata": {},
   "outputs": [],
   "source": [
    "data['ICICIBANK'].head(10)"
   ]
  },
  {
   "cell_type": "markdown",
   "metadata": {},
   "source": [
    "### Initializing Renkodata Dictionary which will contain Renko BrickSize, Open, Close and its Color"
   ]
  },
  {
   "cell_type": "code",
   "execution_count": null,
   "metadata": {},
   "outputs": [],
   "source": [
    "for stock in data:\n",
    "    renkoData[stock]={'BrickSize':0.0, 'Open':0.0,'Close':0.0,'Color':''}"
   ]
  },
  {
   "cell_type": "markdown",
   "metadata": {},
   "source": [
    "### Setting up Bricksize from the last row of ATR column or it can be set manually as well with custom size "
   ]
  },
  {
   "cell_type": "code",
   "execution_count": null,
   "metadata": {
    "scrolled": false
   },
   "outputs": [],
   "source": [
    "for stock in data:\n",
    "    renkoData[stock]['BrickSize']=round(data[stock]['ATR'][-1],2) #This can be set manually as well!\n",
    "    renkoData[stock]['Open']=renkoData[stock]['BrickSize']+renkoData[stock]['Close'] # This can be done the otherway round\n",
    "                                                                                    # as well.'Close' = 'BrickSize' - 'Open' \n",
    "    renkoData[stock]['Color']='red'    # Should you choose to do the other way round, please change the color to 'green'"
   ]
  },
  {
   "cell_type": "code",
   "execution_count": null,
   "metadata": {},
   "outputs": [],
   "source": [
    "renkoData['ICICIBANK']"
   ]
  },
  {
   "cell_type": "code",
   "execution_count": null,
   "metadata": {},
   "outputs": [],
   "source": [
    "renkoData['INFY']"
   ]
  },
  {
   "cell_type": "markdown",
   "metadata": {},
   "source": [
    " ### Setting us the finalData dictionary which will contain  Renko OHLC data along with the bar color!"
   ]
  },
  {
   "cell_type": "code",
   "execution_count": null,
   "metadata": {},
   "outputs": [],
   "source": [
    "for stock in data:\n",
    "    finalData[stock]=pd.DataFrame()\n",
    "    finalData[stock].index.name='Date'\n",
    "    finalData[stock]['ReOpen']=0.0\n",
    "    finalData[stock]['ReHigh']=0.0\n",
    "    finalData[stock]['ReLow']=0.0\n",
    "    finalData[stock]['ReClose']=0.0\n",
    "    finalData[stock]['Color']=''"
   ]
  },
  {
   "cell_type": "markdown",
   "metadata": {},
   "source": [
    "\n",
    "### The calculation involves searching for Renko bars as and when prices close above or below the previous renko bars and recording it "
   ]
  },
  {
   "cell_type": "code",
   "execution_count": null,
   "metadata": {},
   "outputs": [],
   "source": [
    "for stock in data: # This loops thorugh all the stocks in the data dictionary\n",
    "    for index,row in data[stock].iterrows(): # One may choose to use Pure python instead of Iterrows to loop though each n \n",
    "                                         # every row to improve performace if datasets are large.\n",
    "        if renkoData[stock]['Open']> renkoData[stock]['Close']: \n",
    "            while row['Close']> renkoData[stock]['Open']+renkoData[stock]['BrickSize']:\n",
    "                renkoData[stock]['Open']+=renkoData[stock]['BrickSize']\n",
    "                renkoData[stock]['Close']+=renkoData[stock]['BrickSize']\n",
    "                finalData[stock].loc[index]=row\n",
    "                finalData[stock]['ReOpen'].loc[index]= renkoData[stock]['Close']         \n",
    "                finalData[stock]['ReHigh'].loc[index]=renkoData[stock]['Open']\n",
    "                finalData[stock]['ReLow'].loc[index]=renkoData[stock]['Close']\n",
    "                finalData[stock]['ReClose'].loc[index]=renkoData[stock]['Open']\n",
    "                finalData[stock]['Color'].loc[index]='green'\n",
    "\n",
    "            while row['Close'] < renkoData[stock]['Close']-renkoData[stock]['BrickSize']:\n",
    "                renkoData[stock]['Open']-=renkoData[stock]['BrickSize']\n",
    "                renkoData[stock]['Close']-=renkoData[stock]['BrickSize']\n",
    "                finalData[stock].loc[index]=row\n",
    "                finalData[stock]['ReOpen'].loc[index]= renkoData[stock]['Open']         \n",
    "                finalData[stock]['ReHigh'].loc[index]=renkoData[stock]['Open']\n",
    "                finalData[stock]['ReLow'].loc[index]=renkoData[stock]['Close']\n",
    "                finalData[stock]['ReClose'].loc[index]=renkoData[stock]['Close']\n",
    "                finalData[stock]['Color'].loc[index]='red'\n",
    "                \n",
    "        else:\n",
    "            while row['Close']< renkoData[stock]['Open']-renkoData[stock]['BrickSize']:\n",
    "                renkoData[stock]['Open']-=renkoData[stock]['BrickSize']\n",
    "                renkoData[stock]['Close']-=renkoData[stock]['BrickSize']\n",
    "                finalData[stock].loc[index]=row\n",
    "                finalData[stock]['ReOpen'].loc[index]= renkoData[stock]['Close']         \n",
    "                finalData[stock]['ReHigh'].loc[index]=renkoData[stock]['Close']\n",
    "                finalData[stock]['ReLow'].loc[index]=renkoData[stock]['Open']\n",
    "                finalData[stock]['ReClose'].loc[index]=renkoData[stock]['Open']\n",
    "                finalData[stock]['Color'].loc[index]='red'\n",
    "                \n",
    "            while row['Close'] > renkoData[stock]['Close']+renkoData[stock]['BrickSize']:\n",
    "                renkoData[stock]['Open']+=renkoData[stock]['BrickSize']\n",
    "                renkoData[stock]['Close']+=renkoData[stock]['BrickSize']\n",
    "                finalData[stock].loc[index]=row\n",
    "                finalData[stock]['ReOpen'].loc[index]= renkoData[stock]['Open']         \n",
    "                finalData[stock]['ReHigh'].loc[index]=renkoData[stock]['Close']\n",
    "                finalData[stock]['ReLow'].loc[index]=renkoData[stock]['Open']\n",
    "                finalData[stock]['ReClose'].loc[index]=renkoData[stock]['Close']\n",
    "                finalData[stock]['Color'].loc[index]='green'\n",
    "\n"
   ]
  },
  {
   "cell_type": "code",
   "execution_count": null,
   "metadata": {
    "scrolled": false
   },
   "outputs": [],
   "source": [
    "finalData['ICICIBANK'].tail()"
   ]
  },
  {
   "cell_type": "code",
   "execution_count": null,
   "metadata": {},
   "outputs": [],
   "source": [
    "finalData['INFY'].tail()"
   ]
  },
  {
   "cell_type": "markdown",
   "metadata": {
    "collapsed": true
   },
   "source": [
    "#### Taking data to excel sheet"
   ]
  },
  {
   "cell_type": "code",
   "execution_count": null,
   "metadata": {
    "scrolled": false
   },
   "outputs": [],
   "source": [
    "writer = pd.ExcelWriter('Data.xlsx')\n",
    "for stock in data:\n",
    "    data[stock].to_excel(writer,stock)\n",
    "writer.save()\n",
    "\n",
    "writer = pd.ExcelWriter('RenkoData.xlsx')\n",
    "for stock in finalData:\n",
    "    finalData[stock].to_excel(writer,stock)\n",
    "writer.save()\n"
   ]
  }
 ],
 "metadata": {
  "kernelspec": {
   "display_name": "Python 3",
   "language": "python",
   "name": "python3"
  },
  "language_info": {
   "codemirror_mode": {
    "name": "ipython",
    "version": 3
   },
   "file_extension": ".py",
   "mimetype": "text/x-python",
   "name": "python",
   "nbconvert_exporter": "python",
   "pygments_lexer": "ipython3",
   "version": "3.7.0"
  }
 },
 "nbformat": 4,
 "nbformat_minor": 2
}
